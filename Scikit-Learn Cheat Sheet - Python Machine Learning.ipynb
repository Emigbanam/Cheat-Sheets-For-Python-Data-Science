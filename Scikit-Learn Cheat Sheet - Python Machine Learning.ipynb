{
 "cells": [
  {
   "metadata": {},
   "cell_type": "markdown",
   "source": [
    "Python For Data Science Cheat Sheet: Scikit-learn\n",
    "----\n",
    "Scikit-learn is an open source Python library that implements a range of machine learning, preprocessing, cross-validation and visualization algorithms using a unified interface."
   ],
   "id": "658f4ffbc09b7d23"
  },
  {
   "metadata": {},
   "cell_type": "markdown",
   "source": "A Basic Example",
   "id": "eb66238f786f9077"
  },
  {
   "metadata": {
    "ExecuteTime": {
     "end_time": "2025-09-01T21:42:29.611669Z",
     "start_time": "2025-09-01T21:42:29.592888Z"
    }
   },
   "cell_type": "code",
   "source": [
    "from sklearn import neighbors, datasets, preprocessing\n",
    "from sklearn.model_selection import train_test_split\n",
    "from sklearn.metrics import accuracy_score\n",
    "iris = datasets.load_iris()\n",
    "X, y = iris.data[:, :2], iris.target\n",
    "X_train, X_test, y_train, y_test = train_test_split(X, y, random_state=33)\n",
    "scaler = preprocessing.StandardScaler().fit(X_train)\n",
    "X_train = scaler.transform(X_train)\n",
    "X_test = scaler.transform(X_test)\n",
    "knn = neighbors.KNeighborsClassifier(n_neighbors=5)\n",
    "knn.fit(X_train, y_train)\n",
    "y_pred = knn.predict(X_test)\n",
    "accuracy_score(y_test, y_pred)"
   ],
   "id": "490c9aec71fa7a7",
   "outputs": [
    {
     "data": {
      "text/plain": [
       "0.631578947368421"
      ]
     },
     "execution_count": 21,
     "metadata": {},
     "output_type": "execute_result"
    }
   ],
   "execution_count": 21
  },
  {
   "metadata": {},
   "cell_type": "markdown",
   "source": [
    "Loading The Data\n",
    "----\n",
    "Your data needs to be numeric and stored as NumPy arrays or SciPy sparse matrices. Other types that are convertible to numeric arrays, such as Pandas DataFrame, are also acceptable."
   ],
   "id": "662b489498671109"
  },
  {
   "metadata": {
    "ExecuteTime": {
     "end_time": "2025-09-01T21:42:29.630253Z",
     "start_time": "2025-09-01T21:42:29.622524Z"
    }
   },
   "cell_type": "code",
   "source": [
    "import numpy as np\n",
    "X = np.random.random((10,5))\n",
    "y = np.array(['M','M','F','F','M','F','M','M','F','F','F'])\n",
    "X[X < 0.7] = 0"
   ],
   "id": "7e861251dbacf48d",
   "outputs": [],
   "execution_count": 22
  },
  {
   "metadata": {},
   "cell_type": "markdown",
   "source": [
    "Preprocessing The Data\n",
    "---\n",
    "Standardization"
   ],
   "id": "742d385be6cdf833"
  },
  {
   "metadata": {
    "ExecuteTime": {
     "end_time": "2025-09-01T21:42:29.652327Z",
     "start_time": "2025-09-01T21:42:29.646112Z"
    }
   },
   "cell_type": "code",
   "source": [
    "from sklearn.preprocessing import StandardScaler\n",
    "scaler = StandardScaler().fit(X_train)\n",
    "standardized_X = scaler.transform(X_train)\n",
    "standardized_X_test = scaler.transform(X_test)"
   ],
   "id": "c632a802c0c0e194",
   "outputs": [],
   "execution_count": 23
  },
  {
   "metadata": {},
   "cell_type": "markdown",
   "source": "Normalization",
   "id": "f97e0c97ec7532f1"
  },
  {
   "metadata": {
    "ExecuteTime": {
     "end_time": "2025-09-01T21:42:29.668227Z",
     "start_time": "2025-09-01T21:42:29.661508Z"
    }
   },
   "cell_type": "code",
   "source": [
    "from sklearn.preprocessing import Normalizer\n",
    "scaler = Normalizer().fit(X_train)\n",
    "normalized_X = scaler.transform(X_train)\n",
    "normalized_X_test = scaler.transform(X_test)"
   ],
   "id": "87723f008ae280df",
   "outputs": [],
   "execution_count": 24
  },
  {
   "metadata": {},
   "cell_type": "markdown",
   "source": "Binarization",
   "id": "805177904d55ce67"
  },
  {
   "metadata": {
    "ExecuteTime": {
     "end_time": "2025-09-01T21:42:29.681837Z",
     "start_time": "2025-09-01T21:42:29.676296Z"
    }
   },
   "cell_type": "code",
   "source": [
    "from sklearn.preprocessing import Binarizer\n",
    "binarizer = Binarizer(threshold=0.0).fit(X)\n",
    "binary_X = binarizer.transform(X)"
   ],
   "id": "ee2bf7ef547c6131",
   "outputs": [],
   "execution_count": 25
  },
  {
   "metadata": {},
   "cell_type": "markdown",
   "source": "Encoding Categorical Features",
   "id": "17092fee71fb125d"
  },
  {
   "metadata": {
    "ExecuteTime": {
     "end_time": "2025-09-01T21:42:29.695804Z",
     "start_time": "2025-09-01T21:42:29.690021Z"
    }
   },
   "cell_type": "code",
   "source": [
    "from sklearn.preprocessing import LabelEncoder\n",
    "enc = LabelEncoder()\n",
    "y = enc.fit_transform(y)"
   ],
   "id": "478f8579843858bd",
   "outputs": [],
   "execution_count": 26
  },
  {
   "metadata": {},
   "cell_type": "markdown",
   "source": "Imputing Missing Values",
   "id": "3181764c9f9e1e1d"
  },
  {
   "metadata": {
    "ExecuteTime": {
     "end_time": "2025-09-01T21:42:29.711454Z",
     "start_time": "2025-09-01T21:42:29.704121Z"
    }
   },
   "cell_type": "code",
   "source": [
    "from sklearn.impute import SimpleImputer\n",
    "imp = SimpleImputer(missing_values=0, strategy='mean')\n",
    "X_train_imputed = imp.fit_transform(X_train)\n"
   ],
   "id": "3912b30b2f6d74c8",
   "outputs": [],
   "execution_count": 27
  },
  {
   "metadata": {},
   "cell_type": "markdown",
   "source": "Generating Polynomial Features",
   "id": "b516dfb44a604152"
  },
  {
   "metadata": {
    "ExecuteTime": {
     "end_time": "2025-09-01T21:42:29.728794Z",
     "start_time": "2025-09-01T21:42:29.721504Z"
    }
   },
   "cell_type": "code",
   "source": [
    "from sklearn.preprocessing import PolynomialFeatures\n",
    "poly = PolynomialFeatures(5)\n",
    "X_poly = poly.fit_transform(X)"
   ],
   "id": "baa05cd3747f0b0d",
   "outputs": [],
   "execution_count": 28
  },
  {
   "metadata": {},
   "cell_type": "markdown",
   "source": "Training And Test Data",
   "id": "9bd2c9236682f045"
  },
  {
   "metadata": {},
   "cell_type": "code",
   "outputs": [],
   "execution_count": null,
   "source": [
    "from sklearn.model_selection import train_test_split\n",
    "\n",
    "# Example placeholder arrays\n",
    "X = \"feature_matrix\"\n",
    "y = \"target_labels\"\n",
    "\n",
    "# Train-test split example\n",
    "X_train, X_test, y_train, y_test = train_test_split(\n",
    "    X, y, test_size=0.2, random_state=0\n",
    ")\n"
   ],
   "id": "d3961b5beaef2ea"
  },
  {
   "metadata": {},
   "cell_type": "markdown",
   "source": [
    "Create Your Model\n",
    "----\n",
    "----------------------------------------------------------"
   ],
   "id": "d90600f39e8b780c"
  },
  {
   "metadata": {},
   "cell_type": "markdown",
   "source": [
    "Supervised Learning Estimators\n",
    "----"
   ],
   "id": "56c2608631325d14"
  },
  {
   "metadata": {},
   "cell_type": "markdown",
   "source": "Linear Regression",
   "id": "7316feac62ff3ad0"
  },
  {
   "metadata": {
    "ExecuteTime": {
     "end_time": "2025-09-01T22:12:47.388206Z",
     "start_time": "2025-09-01T22:12:47.375897Z"
    }
   },
   "cell_type": "code",
   "source": [
    "from sklearn.linear_model import LinearRegression\n",
    "lr = LinearRegression()"
   ],
   "id": "54e592ac75aa524f",
   "outputs": [],
   "execution_count": 33
  },
  {
   "metadata": {},
   "cell_type": "markdown",
   "source": "Support Vector Machines (SVM)",
   "id": "1d6193ffc2f9c05d"
  },
  {
   "metadata": {
    "ExecuteTime": {
     "end_time": "2025-09-01T22:13:05.649744Z",
     "start_time": "2025-09-01T22:13:05.624692Z"
    }
   },
   "cell_type": "code",
   "source": [
    "from sklearn.svm import SVC\n",
    "svc = SVC(kernel='linear')"
   ],
   "id": "35e2ad4ad0e4fbf5",
   "outputs": [],
   "execution_count": 34
  },
  {
   "metadata": {},
   "cell_type": "markdown",
   "source": "Naive Bayes",
   "id": "93d2183b4cf3e49"
  },
  {
   "metadata": {
    "ExecuteTime": {
     "end_time": "2025-09-01T22:13:14.739670Z",
     "start_time": "2025-09-01T22:13:14.642182Z"
    }
   },
   "cell_type": "code",
   "source": [
    "from sklearn.naive_bayes import GaussianNB\n",
    "gnb = GaussianNB()"
   ],
   "id": "2b5039a822884602",
   "outputs": [],
   "execution_count": 35
  },
  {
   "metadata": {},
   "cell_type": "markdown",
   "source": "KNN",
   "id": "70d7e990efeb1b9f"
  },
  {
   "metadata": {
    "ExecuteTime": {
     "end_time": "2025-09-01T22:13:26.218628Z",
     "start_time": "2025-09-01T22:13:26.194783Z"
    }
   },
   "cell_type": "code",
   "source": [
    "from sklearn import neighbors\n",
    "knn = neighbors.KNeighborsClassifier(n_neighbors=5)"
   ],
   "id": "6eb4c105b36e9ac8",
   "outputs": [],
   "execution_count": 36
  },
  {
   "metadata": {},
   "cell_type": "markdown",
   "source": [
    "Unsupervised Learning Estimators\n",
    "----"
   ],
   "id": "60f6f3fea88e7848"
  },
  {
   "metadata": {},
   "cell_type": "markdown",
   "source": "Principal Component Analysis (PCA)",
   "id": "99ac9323aad7881b"
  },
  {
   "metadata": {
    "ExecuteTime": {
     "end_time": "2025-09-01T22:14:07.168014Z",
     "start_time": "2025-09-01T22:14:07.153080Z"
    }
   },
   "cell_type": "code",
   "source": [
    "from sklearn.decomposition import PCA\n",
    "pca = PCA(n_components=0.95)"
   ],
   "id": "aae78639d005049c",
   "outputs": [],
   "execution_count": 37
  },
  {
   "metadata": {},
   "cell_type": "markdown",
   "source": "K Means",
   "id": "3b3e00cce6b98fb4"
  },
  {
   "metadata": {
    "ExecuteTime": {
     "end_time": "2025-09-01T22:14:19.149177Z",
     "start_time": "2025-09-01T22:14:18.339251Z"
    }
   },
   "cell_type": "code",
   "source": [
    "from sklearn.cluster import KMeans\n",
    "k_means = KMeans(n_clusters=3, random_state=0)"
   ],
   "id": "6c8f2b483e29b45d",
   "outputs": [],
   "execution_count": 38
  },
  {
   "metadata": {},
   "cell_type": "markdown",
   "source": [
    "Model Fitting\n",
    "----"
   ],
   "id": "c086c56098858aa7"
  },
  {
   "metadata": {},
   "cell_type": "markdown",
   "source": "Supervised learning",
   "id": "57f700b5efef4b10"
  },
  {
   "metadata": {},
   "cell_type": "code",
   "outputs": [],
   "execution_count": null,
   "source": [
    "lr.fit(X, y)\n",
    "knn.fit(X_train, y_train)\n",
    "svc.fit(X_train, y_train)"
   ],
   "id": "d6f8a5f53a28802e"
  },
  {
   "metadata": {},
   "cell_type": "markdown",
   "source": "Unsupervised Learning",
   "id": "172bbeeb60889f29"
  },
  {
   "metadata": {},
   "cell_type": "code",
   "outputs": [],
   "execution_count": null,
   "source": [
    "k_means.fit(X_train)\n",
    "pca_model = pca.fit_transform(X_train)"
   ],
   "id": "6e94324266a371f0"
  },
  {
   "metadata": {},
   "cell_type": "markdown",
   "source": [
    "Prediction\n",
    "----"
   ],
   "id": "412db8d753dd443"
  },
  {
   "metadata": {},
   "cell_type": "markdown",
   "source": "Supervised Estimators",
   "id": "fb65213f2f2c6964"
  },
  {
   "metadata": {},
   "cell_type": "code",
   "outputs": [],
   "execution_count": null,
   "source": [
    "y_pred = svc.predict(np.random.random((2,5)))\n",
    "y_pred = lr.predict(X_test)\n",
    "y_pred = knn.predict_proba(X_test))"
   ],
   "id": "2c0cc68700b01179"
  },
  {
   "metadata": {},
   "cell_type": "markdown",
   "source": "Unsupervised Estimators",
   "id": "199f6c345ca14422"
  },
  {
   "metadata": {},
   "cell_type": "code",
   "outputs": [],
   "execution_count": null,
   "source": "y_pred = k_means.predict(X_test)",
   "id": "427a9826f95e89d5"
  }
 ],
 "metadata": {
  "kernelspec": {
   "display_name": "Python 3",
   "language": "python",
   "name": "python3"
  },
  "language_info": {
   "codemirror_mode": {
    "name": "ipython",
    "version": 2
   },
   "file_extension": ".py",
   "mimetype": "text/x-python",
   "name": "python",
   "nbconvert_exporter": "python",
   "pygments_lexer": "ipython2",
   "version": "2.7.6"
  }
 },
 "nbformat": 4,
 "nbformat_minor": 5
}
